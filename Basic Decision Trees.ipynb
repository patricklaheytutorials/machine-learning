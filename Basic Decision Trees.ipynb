{
 "cells": [
  {
   "cell_type": "raw",
   "metadata": {},
   "source": [
    "<script>\n",
    "function code_toggle() {\n",
    "  if (code_shown) {\n",
    "    $('div.input').hide('500');\n",
    "    $('#toggleButton').val('Show Code');\n",
    "  } else {\n",
    "    $('div.input').show('500');\n",
    "    $('#toggleButton').val('Hide Code');\n",
    "  }\n",
    "  code_shown = !code_shown;\n",
    "}\n",
    "$( document ).ready(function(){\n",
    "  code_shown=false;\n",
    "  $('div.input').hide()\n",
    "});\n",
    "</script>\n",
    "<!--\n",
    "<form action=\"javascript:code_toggle()\"><input type=\"submit\" id=\"toggleButton\" value=\"Show Code\"></form>\n",
    "-->"
   ]
  },
  {
   "cell_type": "markdown",
   "metadata": {},
   "source": [
    "# Basic Decision Trees\n",
    "## The Problem\n",
    "Let's start with a concrete example of the type of problem we are going to discuss.  Supposed that you are a bird watcher and you have been tracking if your favorite Barn Swallow shows up during lunch time.  You have been keeping track of a number of different variables (in machine learning we call these \"features\") every morning along with whether or not your friend shows up during lunch.  The features you record are:\n",
    "\n",
    "| Feature Name | Possible Values      |\n",
    "|--------------|----------------------|\n",
    "| Outlook      |Sunny, Overcast, Rain |\n",
    "| Temperature  |Cool, Mild, Hot       |\n",
    "| Humidity     |High, Normal          |\n",
    "| Windy        |True, False           |\n",
    "\n",
    "This is called \"categorical data\" because each feature takes on a single value from a finite set of possible values.  Categorical data is often created by grouping data that is otherwise continuous (e.g. Temperature gets grouped into Cool, Mild or Hot based on some criterion).\n",
    "\n",
    "The goal of this type of machine learning problem is to determine, based on a particular measurement or \"instance\" of the features values (i.e. Outlook, Temperature, Humidity, Windy), whether our bird friend will show up.  This is called a binary classification problem because we are classifying instances (e.g. Outlook=Overcast, Temperature=Hot, Humidity=High, Windy=True) as either thumbs up (the bird shows up) or thumbs down (the bird does not show up).\n",
    "\n",
    "## A Solution\n",
    "The mathematical view of the above problem is that we are looking for a function.  Functions map each input to one and only one output.  The function in this case maps (Outlook, Temperature, Humidity, Windy) to thumbs up or thumbs down.  How many different possible functions are there to choose from?\n",
    "\n",
    "There are $3 \\cdot 3 \\cdot 2 \\cdot 2 = 36$ possible inputs (Outlook has 3 possibilities, Temperature has 3, Humidity has 2 and Windy has 2 possibilities).  For each input the function can evaluate to one of two values (thumbs up or thumbs down).  Thus there are $2^{36}=68,719,476,736$ possible functions associated with this simple problem.\n",
    "\n",
    "### A Little Theory\n",
    "Does it surprise you that a problem this simple has so many different possible solutions?  This is just a fact of life for machine learning practitioners.  Consider the case of a problem with $N$ features each of which can take on 2 values in a binary classification problem.  In this case, the number of possible solutions/functions is\n",
    "\n",
    "$$2^{2^{N}}$$\n",
    "\n",
    "(each of the $2^{N}$ possible inputs has 2 possible outputs).  Note that the size of the solution space grows like a double exponential with the number of features involved.  Clearly a brute force search of the solution space is not viable.\n",
    "\n",
    "It is useful to note that even just to explicitly represent the single \"correct\" function that we are after requires exponential memory - we need to remember the output for each of the $2^{N}$ possible inputs.  Of course if we know the correct output for every input we don't have a learning problem.  We have (in practice at least) a compression problem.  If we choose to use lossy compression then we are effectively approximating a known function.  Neither of these is learning.\n",
    "\n",
    "### What is Learning?\n",
    "There are a number of different types of learning problems.  For the most part they all involve trying to approximate a function based on instance data (sets of features) which may (supervised learning) or may not (unsupervised learning) have \"correct\" outputs associated with them.\n",
    "\n",
    "Typically the amount of data available to learn from is a tiny fraction of the set of all possible inputs (i.e. all possible combinations of feature values).  Given this, it is reasonable ask if \"learning\" is even possible.  How can we possibly know what value a function will take on without observing what it actually evaluates to?  The answers is that it is not possible to learn \"pathological\" functions but it is possible to approximate functions that exhibit \"large scale\" patterns in their output which can be detected from sparse sampling.  We won't attempt here to rigorously defined the conditions under which \"generalization\" is possible.  We will simply state that if a data set of interest contains patterns that generalize to the full domain it is possible (at least in theory) to learn and exploit them.\n",
    "\n",
    "### A Function?  Really?\n",
    "It is quite reasonable to question whether a function is really what we are after here.  Surely whether or not our friendly Barn Swallow shows up depends on more than just some crude measures of the weather!  This is most likely true and is often true in real world cases as well.  There may be \"unobserved\" features such as the proximity of cats at lunch time or numerous other factors related to Barn Swallow psychology.  The best we can really hope for is to approximate the \"real\" underlying function using just the data that is available.  There will be \"modeling\" error that can't be avoided.  This is not quite as bad as it sounds since approximation is probably the best we can hope for any way given the sparseness of the data typically available.  We will come back to this point later when we discuss bias and variance.\n",
    "\n",
    "### A Function Then - So How Do We Approximate It?\n",
    "Before we tackle the question of how to approximate the function we are after it is useful to consider if it possible to always represent the function exactly if we have a complete set of inputs and outputs.  In machine learning choosing the manner in which the function will be represented is called choosing the \"hypothesis space.\"  The specific function that is choosen based on the data is called the \"hypothesis.\"   The hypothesis is restricted to be a member (in a set theoretic sense) of the hypothesis space.  In general the choice of hypothesis space can dramaticaly impact the quality of the resulting hypothesis (i.e. how well we are able to approximate the function we are after) and the amount of work necessary to pick the best hypothesis.  In the case at hand - supervised learning of binary classification over categorical data - we are in luck since a simple hypothesis space is both fairly obvious and capable of exactly representing the function we are after.\n",
    "\n",
    "A simple way to represent a function that captures the observed instances is simply a series of if-then statements:\n",
    "\n",
    "```python\n",
    "if   Outlook=='Sunny' and Temperature=='Hot' and Humidity=='High' and Windy==False: return 'thumbs down'\n",
    "elif Outlook=='Sunny' and Temperature=='Hot' and Humidity=='High' and Windy==True:  return 'thumbs down'\n",
    "#...\n",
    "```\n",
    "\n",
    "It should be fairly obvious that this hypothesis space (a series of if-then statements over all the features) is capable of representing the function we are after exactly **if** we have the complete set of inputs and outputs.  The problem, as we mentioned before, however is that this is not learning.  If we already have all the inputs and outputs there is nothing to learn!  If we just use this \"series of rules\" approach on sparse input we are left with no ability to generalize to inputs that have not been observed.  The if-then approach is promising however.  Consider the following instance data from which we wish to learn an approximate classifier function:"
   ]
  },
  {
   "cell_type": "code",
   "execution_count": 1,
   "metadata": {
    "collapsed": false
   },
   "outputs": [
    {
     "data": {
      "text/html": [
       "<center><table style=\"color: black;border: 1px solid black;\"><tr style=\"color: black;border: 1px solid black;\"><td style=\"font-weight: bold;color: black;background-color: lightgray;\">Outlook</td><td style=\"font-weight: bold;color: black;background-color: lightgray;\">Temperature</td><td style=\"font-weight: bold;color: black;background-color: lightgray;\">Humidity</td><td style=\"font-weight: bold;color: black;background-color: lightgray;\">Windy</td><td style=\"font-weight: bold;color: black;background-color: lightgray;\">Barn Swallow?</td></tr><tr style=\"color: black;border: 1px solid black;\"><td style=\"border: 1px solid black;color: black;\">Sunny</td><td style=\"border: 1px solid black;color: black;\">Hot</td><td style=\"border: 1px solid black;color: black;\">High</td><td style=\"border: 1px solid black;color: black;\">False</td><td style=\"border: 1px solid black;color: black;\">thumbs down</td></tr><tr style=\"color: black;border: 1px solid black;\"><td style=\"border: 1px solid black;color: black;\">Sunny</td><td style=\"border: 1px solid black;color: black;\">Hot</td><td style=\"border: 1px solid black;color: black;\">High</td><td style=\"border: 1px solid black;color: black;\">True</td><td style=\"border: 1px solid black;color: black;\">thumbs down</td></tr><tr style=\"color: black;border: 1px solid black;\"><td style=\"border: 1px solid black;color: black;\">Overcast</td><td style=\"border: 1px solid black;color: black;\">Hot</td><td style=\"border: 1px solid black;color: black;\">High</td><td style=\"border: 1px solid black;color: black;\">False</td><td style=\"border: 1px solid black;color: black;\">thumbs up</td></tr><tr style=\"color: black;border: 1px solid black;\"><td style=\"border: 1px solid black;color: black;\">Rain</td><td style=\"border: 1px solid black;color: black;\">Mild</td><td style=\"border: 1px solid black;color: black;\">High</td><td style=\"border: 1px solid black;color: black;\">False</td><td style=\"border: 1px solid black;color: black;\">thumbs up</td></tr><tr style=\"color: black;border: 1px solid black;\"><td style=\"border: 1px solid black;color: black;\">Rain</td><td style=\"border: 1px solid black;color: black;\">Cool</td><td style=\"border: 1px solid black;color: black;\">Normal</td><td style=\"border: 1px solid black;color: black;\">False</td><td style=\"border: 1px solid black;color: black;\">thumbs up</td></tr><tr style=\"color: black;border: 1px solid black;\"><td style=\"border: 1px solid black;color: black;\">Rain</td><td style=\"border: 1px solid black;color: black;\">Cool</td><td style=\"border: 1px solid black;color: black;\">Normal</td><td style=\"border: 1px solid black;color: black;\">True</td><td style=\"border: 1px solid black;color: black;\">thumbs down</td></tr><tr style=\"color: black;border: 1px solid black;\"><td style=\"border: 1px solid black;color: black;\">Overcast</td><td style=\"border: 1px solid black;color: black;\">Cool</td><td style=\"border: 1px solid black;color: black;\">Normal</td><td style=\"border: 1px solid black;color: black;\">True</td><td style=\"border: 1px solid black;color: black;\">thumbs up</td></tr><tr style=\"color: black;border: 1px solid black;\"><td style=\"border: 1px solid black;color: black;\">Sunny</td><td style=\"border: 1px solid black;color: black;\">Mild</td><td style=\"border: 1px solid black;color: black;\">High</td><td style=\"border: 1px solid black;color: black;\">False</td><td style=\"border: 1px solid black;color: black;\">thumbs down</td></tr><tr style=\"color: black;border: 1px solid black;\"><td style=\"border: 1px solid black;color: black;\">Sunny</td><td style=\"border: 1px solid black;color: black;\">Cool</td><td style=\"border: 1px solid black;color: black;\">Normal</td><td style=\"border: 1px solid black;color: black;\">False</td><td style=\"border: 1px solid black;color: black;\">thumbs up</td></tr><tr style=\"color: black;border: 1px solid black;\"><td style=\"border: 1px solid black;color: black;\">Rain</td><td style=\"border: 1px solid black;color: black;\">Mild</td><td style=\"border: 1px solid black;color: black;\">Normal</td><td style=\"border: 1px solid black;color: black;\">False</td><td style=\"border: 1px solid black;color: black;\">thumbs up</td></tr><tr style=\"color: black;border: 1px solid black;\"><td style=\"border: 1px solid black;color: black;\">Sunny</td><td style=\"border: 1px solid black;color: black;\">Mild</td><td style=\"border: 1px solid black;color: black;\">Normal</td><td style=\"border: 1px solid black;color: black;\">True</td><td style=\"border: 1px solid black;color: black;\">thumbs up</td></tr><tr style=\"color: black;border: 1px solid black;\"><td style=\"border: 1px solid black;color: black;\">Overcast</td><td style=\"border: 1px solid black;color: black;\">Mild</td><td style=\"border: 1px solid black;color: black;\">High</td><td style=\"border: 1px solid black;color: black;\">True</td><td style=\"border: 1px solid black;color: black;\">thumbs up</td></tr><tr style=\"color: black;border: 1px solid black;\"><td style=\"border: 1px solid black;color: black;\">Overcast</td><td style=\"border: 1px solid black;color: black;\">Hot</td><td style=\"border: 1px solid black;color: black;\">Normal</td><td style=\"border: 1px solid black;color: black;\">False</td><td style=\"border: 1px solid black;color: black;\">thumbs up</td></tr><tr style=\"color: black;border: 1px solid black;\"><td style=\"border: 1px solid black;color: black;\">Rain</td><td style=\"border: 1px solid black;color: black;\">Mild</td><td style=\"border: 1px solid black;color: black;\">High</td><td style=\"border: 1px solid black;color: black;\">True</td><td style=\"border: 1px solid black;color: black;\">thumbs down</td></tr></table></center>"
      ],
      "text/plain": [
       "<itable.itable.PrettyTable at 0x113a30d30>"
      ]
     },
     "metadata": {},
     "output_type": "display_data"
    }
   ],
   "source": [
    "import pandas as pd\n",
    "import itable\n",
    "from IPython.display import display\n",
    "values = zip(['Outlook', 'Temperature', 'Humidity', 'Windy', 'Barn Swallow?'],\n",
    "    ['Sunny', 'Hot', 'High', False, 'thumbs down'], \n",
    "    ['Sunny', 'Hot', 'High', True, 'thumbs down'], \n",
    "    ['Overcast', 'Hot', 'High', False, 'thumbs up'],\n",
    "    ['Rain', 'Mild', 'High', False, 'thumbs up'],\n",
    "    ['Rain', 'Cool', 'Normal', False, 'thumbs up'],\n",
    "    ['Rain', 'Cool', 'Normal', True, 'thumbs down'],\n",
    "    ['Overcast', 'Cool', 'Normal', True, 'thumbs up'],\n",
    "    ['Sunny', 'Mild', 'High', False, 'thumbs down'], \n",
    "    ['Sunny', 'Cool', 'Normal', False, 'thumbs up'],\n",
    "    ['Rain', 'Mild', 'Normal', False, 'thumbs up'],\n",
    "    ['Sunny', 'Mild', 'Normal', True, 'thumbs up'],\n",
    "    ['Overcast', 'Mild', 'High', True, 'thumbs up'],\n",
    "    ['Overcast', 'Hot', 'Normal', False, 'thumbs up'],\n",
    "    ['Rain', 'Mild', 'High', True, 'thumbs down'])\n",
    "df = pd.DataFrame({row[0]: row[1:] for row in values})\n",
    "df = df.ix[:,['Outlook', 'Temperature', 'Humidity', 'Windy', 'Barn Swallow?']]\n",
    "pt = itable.PrettyTable(df, tstyle=itable.TableStyle(theme=\"theme1\"), center=True)\n",
    "display(pt)"
   ]
  },
  {
   "cell_type": "markdown",
   "metadata": {},
   "source": [
    "Examining this data carefully we see that there are patterns we can exploit. For example, when the Outlook is Overcast our friend always shows up (the tomato colored rows):"
   ]
  },
  {
   "cell_type": "code",
   "execution_count": 2,
   "metadata": {
    "collapsed": false
   },
   "outputs": [
    {
     "data": {
      "text/html": [
       "<center><table style=\"color: black;border: 1px solid black;\"><tr style=\"color: black;border: 1px solid black;\"><td style=\"font-weight: bold;color: black;background-color: lightgray;\">Outlook</td><td style=\"font-weight: bold;color: black;background-color: lightgray;\">Temperature</td><td style=\"font-weight: bold;color: black;background-color: lightgray;\">Humidity</td><td style=\"font-weight: bold;color: black;background-color: lightgray;\">Windy</td><td style=\"font-weight: bold;color: black;background-color: lightgray;\">Barn Swallow?</td></tr><tr style=\"color: black;border: 1px solid black;\"><td style=\"background-color: yellow;\">Sunny</td><td style=\"background-color: yellow;\">Hot</td><td style=\"background-color: yellow;\">High</td><td style=\"background-color: yellow;\">False</td><td style=\"background-color: yellow;\">thumbs down</td></tr><tr style=\"color: black;border: 1px solid black;\"><td style=\"background-color: yellow;\">Sunny</td><td style=\"background-color: yellow;\">Hot</td><td style=\"background-color: yellow;\">High</td><td style=\"background-color: yellow;\">True</td><td style=\"background-color: yellow;\">thumbs down</td></tr><tr style=\"color: black;border: 1px solid black;\"><td style=\"background-color: tomato;\">Overcast</td><td style=\"background-color: tomato;\">Hot</td><td style=\"background-color: tomato;\">High</td><td style=\"background-color: tomato;\">False</td><td style=\"background-color: tomato;\">thumbs up</td></tr><tr style=\"color: black;border: 1px solid black;\"><td style=\"background-color: skyblue;\">Rain</td><td style=\"background-color: skyblue;\">Mild</td><td style=\"background-color: skyblue;\">High</td><td style=\"background-color: skyblue;\">False</td><td style=\"background-color: skyblue;\">thumbs up</td></tr><tr style=\"color: black;border: 1px solid black;\"><td style=\"background-color: skyblue;\">Rain</td><td style=\"background-color: skyblue;\">Cool</td><td style=\"background-color: skyblue;\">Normal</td><td style=\"background-color: skyblue;\">False</td><td style=\"background-color: skyblue;\">thumbs up</td></tr><tr style=\"color: black;border: 1px solid black;\"><td style=\"background-color: skyblue;\">Rain</td><td style=\"background-color: skyblue;\">Cool</td><td style=\"background-color: skyblue;\">Normal</td><td style=\"background-color: skyblue;\">True</td><td style=\"background-color: skyblue;\">thumbs down</td></tr><tr style=\"color: black;border: 1px solid black;\"><td style=\"background-color: tomato;\">Overcast</td><td style=\"background-color: tomato;\">Cool</td><td style=\"background-color: tomato;\">Normal</td><td style=\"background-color: tomato;\">True</td><td style=\"background-color: tomato;\">thumbs up</td></tr><tr style=\"color: black;border: 1px solid black;\"><td style=\"background-color: yellow;\">Sunny</td><td style=\"background-color: yellow;\">Mild</td><td style=\"background-color: yellow;\">High</td><td style=\"background-color: yellow;\">False</td><td style=\"background-color: yellow;\">thumbs down</td></tr><tr style=\"color: black;border: 1px solid black;\"><td style=\"background-color: yellow;\">Sunny</td><td style=\"background-color: yellow;\">Cool</td><td style=\"background-color: yellow;\">Normal</td><td style=\"background-color: yellow;\">False</td><td style=\"background-color: yellow;\">thumbs up</td></tr><tr style=\"color: black;border: 1px solid black;\"><td style=\"background-color: skyblue;\">Rain</td><td style=\"background-color: skyblue;\">Mild</td><td style=\"background-color: skyblue;\">Normal</td><td style=\"background-color: skyblue;\">False</td><td style=\"background-color: skyblue;\">thumbs up</td></tr><tr style=\"color: black;border: 1px solid black;\"><td style=\"background-color: yellow;\">Sunny</td><td style=\"background-color: yellow;\">Mild</td><td style=\"background-color: yellow;\">Normal</td><td style=\"background-color: yellow;\">True</td><td style=\"background-color: yellow;\">thumbs up</td></tr><tr style=\"color: black;border: 1px solid black;\"><td style=\"background-color: tomato;\">Overcast</td><td style=\"background-color: tomato;\">Mild</td><td style=\"background-color: tomato;\">High</td><td style=\"background-color: tomato;\">True</td><td style=\"background-color: tomato;\">thumbs up</td></tr><tr style=\"color: black;border: 1px solid black;\"><td style=\"background-color: tomato;\">Overcast</td><td style=\"background-color: tomato;\">Hot</td><td style=\"background-color: tomato;\">Normal</td><td style=\"background-color: tomato;\">False</td><td style=\"background-color: tomato;\">thumbs up</td></tr><tr style=\"color: black;border: 1px solid black;\"><td style=\"background-color: skyblue;\">Rain</td><td style=\"background-color: skyblue;\">Mild</td><td style=\"background-color: skyblue;\">High</td><td style=\"background-color: skyblue;\">True</td><td style=\"background-color: skyblue;\">thumbs down</td></tr></table></center>"
      ],
      "text/plain": [
       "<itable.itable.PrettyTable at 0x113a7c438>"
      ]
     },
     "metadata": {},
     "output_type": "display_data"
    }
   ],
   "source": [
    "def df_rows(df, fname, fvalue):\n",
    "    return df[df[fname] == fvalue].index.tolist()\n",
    "\n",
    "def df_color(df, fname, fvalue_colors):\n",
    "    pt = itable.PrettyTable(df, tstyle=itable.TableStyle(theme=\"theme1\"), center=True)\n",
    "    for fvalue, color in fvalue_colors.items():\n",
    "        cs = itable.CellStyle()\n",
    "        cs.set(\"background-color\", color)\n",
    "        pt.set_cell_style(style=cs, rows=df_rows(df, fname, fvalue))\n",
    "    return pt\n",
    "\n",
    "def df_gray_col(pt, cname):\n",
    "    cs = itable.CellStyle()\n",
    "    cs.set(\"background-color\", \"grey\")\n",
    "    pt.set_cell_style(style=cs, cols=[df.columns.get_loc(cname)])\n",
    "\n",
    "OUTLOOK_COLORS = {'Overcast': 'tomato', 'Sunny': 'yellow', 'Rain': 'skyblue'}\n",
    "\n",
    "pt = df_color(df, 'Outlook', OUTLOOK_COLORS)\n",
    "\n",
    "display(pt)"
   ]
  },
  {
   "cell_type": "markdown",
   "metadata": {
    "collapsed": true
   },
   "source": [
    "This suggests a recursive approach of choosing one feature to group the data by and then examining the resulting groups as new instances of the same learning problem with one less feature.  Consider grouping the above on the Outlook feature:"
   ]
  },
  {
   "cell_type": "code",
   "execution_count": 3,
   "metadata": {
    "collapsed": false
   },
   "outputs": [
    {
     "data": {
      "text/html": [
       "<center><table style=\"color: black;border: 1px solid black;\"><tr style=\"color: black;border: 1px solid black;\"><td style=\"font-weight: bold;color: black;background-color: lightgray;\">Outlook</td><td style=\"font-weight: bold;color: black;background-color: lightgray;\">Temperature</td><td style=\"font-weight: bold;color: black;background-color: lightgray;\">Humidity</td><td style=\"font-weight: bold;color: black;background-color: lightgray;\">Windy</td><td style=\"font-weight: bold;color: black;background-color: lightgray;\">Barn Swallow?</td></tr><tr style=\"color: black;border: 1px solid black;\"><td style=\"background-color: tomato;\">Overcast</td><td style=\"background-color: tomato;\">Hot</td><td style=\"background-color: tomato;\">High</td><td style=\"background-color: tomato;\">False</td><td style=\"background-color: tomato;\">thumbs up</td></tr><tr style=\"color: black;border: 1px solid black;\"><td style=\"background-color: tomato;\">Overcast</td><td style=\"background-color: tomato;\">Cool</td><td style=\"background-color: tomato;\">Normal</td><td style=\"background-color: tomato;\">True</td><td style=\"background-color: tomato;\">thumbs up</td></tr><tr style=\"color: black;border: 1px solid black;\"><td style=\"background-color: tomato;\">Overcast</td><td style=\"background-color: tomato;\">Mild</td><td style=\"background-color: tomato;\">High</td><td style=\"background-color: tomato;\">True</td><td style=\"background-color: tomato;\">thumbs up</td></tr><tr style=\"color: black;border: 1px solid black;\"><td style=\"background-color: tomato;\">Overcast</td><td style=\"background-color: tomato;\">Hot</td><td style=\"background-color: tomato;\">Normal</td><td style=\"background-color: tomato;\">False</td><td style=\"background-color: tomato;\">thumbs up</td></tr><tr style=\"color: black;border: 1px solid black;\"><td style=\"background-color: skyblue;\">Rain</td><td style=\"background-color: skyblue;\">Mild</td><td style=\"background-color: skyblue;\">High</td><td style=\"background-color: skyblue;\">False</td><td style=\"background-color: skyblue;\">thumbs up</td></tr><tr style=\"color: black;border: 1px solid black;\"><td style=\"background-color: skyblue;\">Rain</td><td style=\"background-color: skyblue;\">Cool</td><td style=\"background-color: skyblue;\">Normal</td><td style=\"background-color: skyblue;\">False</td><td style=\"background-color: skyblue;\">thumbs up</td></tr><tr style=\"color: black;border: 1px solid black;\"><td style=\"background-color: skyblue;\">Rain</td><td style=\"background-color: skyblue;\">Cool</td><td style=\"background-color: skyblue;\">Normal</td><td style=\"background-color: skyblue;\">True</td><td style=\"background-color: skyblue;\">thumbs down</td></tr><tr style=\"color: black;border: 1px solid black;\"><td style=\"background-color: skyblue;\">Rain</td><td style=\"background-color: skyblue;\">Mild</td><td style=\"background-color: skyblue;\">Normal</td><td style=\"background-color: skyblue;\">False</td><td style=\"background-color: skyblue;\">thumbs up</td></tr><tr style=\"color: black;border: 1px solid black;\"><td style=\"background-color: skyblue;\">Rain</td><td style=\"background-color: skyblue;\">Mild</td><td style=\"background-color: skyblue;\">High</td><td style=\"background-color: skyblue;\">True</td><td style=\"background-color: skyblue;\">thumbs down</td></tr><tr style=\"color: black;border: 1px solid black;\"><td style=\"background-color: yellow;\">Sunny</td><td style=\"background-color: yellow;\">Hot</td><td style=\"background-color: yellow;\">High</td><td style=\"background-color: yellow;\">False</td><td style=\"background-color: yellow;\">thumbs down</td></tr><tr style=\"color: black;border: 1px solid black;\"><td style=\"background-color: yellow;\">Sunny</td><td style=\"background-color: yellow;\">Hot</td><td style=\"background-color: yellow;\">High</td><td style=\"background-color: yellow;\">True</td><td style=\"background-color: yellow;\">thumbs down</td></tr><tr style=\"color: black;border: 1px solid black;\"><td style=\"background-color: yellow;\">Sunny</td><td style=\"background-color: yellow;\">Mild</td><td style=\"background-color: yellow;\">High</td><td style=\"background-color: yellow;\">False</td><td style=\"background-color: yellow;\">thumbs down</td></tr><tr style=\"color: black;border: 1px solid black;\"><td style=\"background-color: yellow;\">Sunny</td><td style=\"background-color: yellow;\">Cool</td><td style=\"background-color: yellow;\">Normal</td><td style=\"background-color: yellow;\">False</td><td style=\"background-color: yellow;\">thumbs up</td></tr><tr style=\"color: black;border: 1px solid black;\"><td style=\"background-color: yellow;\">Sunny</td><td style=\"background-color: yellow;\">Mild</td><td style=\"background-color: yellow;\">Normal</td><td style=\"background-color: yellow;\">True</td><td style=\"background-color: yellow;\">thumbs up</td></tr></table></center>"
      ],
      "text/plain": [
       "<itable.itable.PrettyTable at 0x1056a7be0>"
      ]
     },
     "metadata": {},
     "output_type": "display_data"
    }
   ],
   "source": [
    "df_sorted = df.sort_values('Outlook')\n",
    "df_sorted.index = range(len(df_sorted))\n",
    "\n",
    "pt = df_color(df_sorted, 'Outlook', OUTLOOK_COLORS)\n",
    "\n",
    "display(pt)"
   ]
  },
  {
   "cell_type": "markdown",
   "metadata": {},
   "source": [
    "Conceptually we now have 3 data sets that we can work on independently.  Remember the end goal is to approximate the function that classifies instances (i.e. values of Outlook, Temperature, Humidity and Windy) in a way that is consistent with the learning examples we have to work with (i.e. the examples above).  The function that we have built so far looks like this if we express it as code:\n",
    "\n",
    "```python\n",
    "if Outlook == 'Overcast':\n",
    "    # all Overcast instances have same classification\n",
    "    return 'thumbs up'\n",
    "elif Outlook == 'Rain':\n",
    "    # split Rain instances on next feature (TBD)\n",
    "elif Outlook == 'Sunny':\n",
    "    # split Sunny instances on next feature (TBD)\n",
    "```\n",
    "\n",
    "It is important to note, however, that the functions we learn are not typically represented as code.  They are instead represented as a tree (hence the name \"decision tree\").  For this example, however, we will continue on by hand.\n",
    "\n",
    "The first group of instances have Outlook equal to Overcase.  These all have the same classification so there is nothing to do - we have a rule that we can generalize to all instances (at least based on the data we have):"
   ]
  },
  {
   "cell_type": "code",
   "execution_count": 4,
   "metadata": {
    "collapsed": false
   },
   "outputs": [
    {
     "data": {
      "text/html": [
       "<center><table style=\"color: black;border: 1px solid black;\"><tr style=\"color: black;border: 1px solid black;\"><td style=\"font-weight: bold;color: black;background-color: lightgray;\">Outlook</td><td style=\"font-weight: bold;color: black;background-color: lightgray;\">Temperature</td><td style=\"font-weight: bold;color: black;background-color: lightgray;\">Humidity</td><td style=\"font-weight: bold;color: black;background-color: lightgray;\">Windy</td><td style=\"font-weight: bold;color: black;background-color: lightgray;\">Barn Swallow?</td></tr><tr style=\"color: black;border: 1px solid black;\"><td style=\"background-color: grey;\">Overcast</td><td style=\"background-color: tomato;\">Hot</td><td style=\"background-color: tomato;\">High</td><td style=\"background-color: tomato;\">False</td><td style=\"background-color: tomato;\">thumbs up</td></tr><tr style=\"color: black;border: 1px solid black;\"><td style=\"background-color: grey;\">Overcast</td><td style=\"background-color: tomato;\">Cool</td><td style=\"background-color: tomato;\">Normal</td><td style=\"background-color: tomato;\">True</td><td style=\"background-color: tomato;\">thumbs up</td></tr><tr style=\"color: black;border: 1px solid black;\"><td style=\"background-color: grey;\">Overcast</td><td style=\"background-color: tomato;\">Mild</td><td style=\"background-color: tomato;\">High</td><td style=\"background-color: tomato;\">True</td><td style=\"background-color: tomato;\">thumbs up</td></tr><tr style=\"color: black;border: 1px solid black;\"><td style=\"background-color: grey;\">Overcast</td><td style=\"background-color: tomato;\">Hot</td><td style=\"background-color: tomato;\">Normal</td><td style=\"background-color: tomato;\">False</td><td style=\"background-color: tomato;\">thumbs up</td></tr></table></center>"
      ],
      "text/plain": [
       "<itable.itable.PrettyTable at 0x1056a9dd8>"
      ]
     },
     "metadata": {},
     "output_type": "display_data"
    }
   ],
   "source": [
    "df_g1 = df_sorted.loc[df_sorted['Outlook'] == 'Overcast']\n",
    "df_g1.index = range(len(df_g1))\n",
    "\n",
    "pt = df_color(df_g1, 'Outlook', OUTLOOK_COLORS)\n",
    "df_gray_col(pt, 'Outlook')\n",
    "display(pt)"
   ]
  },
  {
   "cell_type": "markdown",
   "metadata": {},
   "source": [
    "The second group of instances have Outlook equal to Rain.  These instances have mixed classification so we still have some work to do:"
   ]
  },
  {
   "cell_type": "code",
   "execution_count": 5,
   "metadata": {
    "collapsed": false
   },
   "outputs": [
    {
     "data": {
      "text/html": [
       "<center><table style=\"color: black;border: 1px solid black;\"><tr style=\"color: black;border: 1px solid black;\"><td style=\"font-weight: bold;color: black;background-color: lightgray;\">Outlook</td><td style=\"font-weight: bold;color: black;background-color: lightgray;\">Temperature</td><td style=\"font-weight: bold;color: black;background-color: lightgray;\">Humidity</td><td style=\"font-weight: bold;color: black;background-color: lightgray;\">Windy</td><td style=\"font-weight: bold;color: black;background-color: lightgray;\">Barn Swallow?</td></tr><tr style=\"color: black;border: 1px solid black;\"><td style=\"background-color: grey;\">Rain</td><td style=\"background-color: skyblue;\">Mild</td><td style=\"background-color: skyblue;\">High</td><td style=\"background-color: skyblue;\">False</td><td style=\"background-color: skyblue;\">thumbs up</td></tr><tr style=\"color: black;border: 1px solid black;\"><td style=\"background-color: grey;\">Rain</td><td style=\"background-color: skyblue;\">Cool</td><td style=\"background-color: skyblue;\">Normal</td><td style=\"background-color: skyblue;\">False</td><td style=\"background-color: skyblue;\">thumbs up</td></tr><tr style=\"color: black;border: 1px solid black;\"><td style=\"background-color: grey;\">Rain</td><td style=\"background-color: skyblue;\">Cool</td><td style=\"background-color: skyblue;\">Normal</td><td style=\"background-color: skyblue;\">True</td><td style=\"background-color: skyblue;\">thumbs down</td></tr><tr style=\"color: black;border: 1px solid black;\"><td style=\"background-color: grey;\">Rain</td><td style=\"background-color: skyblue;\">Mild</td><td style=\"background-color: skyblue;\">Normal</td><td style=\"background-color: skyblue;\">False</td><td style=\"background-color: skyblue;\">thumbs up</td></tr><tr style=\"color: black;border: 1px solid black;\"><td style=\"background-color: grey;\">Rain</td><td style=\"background-color: skyblue;\">Mild</td><td style=\"background-color: skyblue;\">High</td><td style=\"background-color: skyblue;\">True</td><td style=\"background-color: skyblue;\">thumbs down</td></tr></table></center>"
      ],
      "text/plain": [
       "<itable.itable.PrettyTable at 0x113a5afd0>"
      ]
     },
     "metadata": {},
     "output_type": "display_data"
    }
   ],
   "source": [
    "df_g2 = df_sorted.loc[df_sorted['Outlook'] == 'Rain']\n",
    "df_g2.index = range(len(df_g2))\n",
    "\n",
    "pt = df_color(df_g2, 'Outlook', OUTLOOK_COLORS)\n",
    "df_gray_col(pt, 'Outlook')\n",
    "display(pt)"
   ]
  },
  {
   "cell_type": "markdown",
   "metadata": {},
   "source": [
    "We now need to choose the next feature to group the instances by.  In general, the best choice will be the feature that produce groups that are as close to \"pure\" (i.e. all share a single classification) as possible.  Based on this criterion, it looks like Windy is best feature to split on:"
   ]
  },
  {
   "cell_type": "code",
   "execution_count": 6,
   "metadata": {
    "collapsed": false
   },
   "outputs": [
    {
     "data": {
      "text/html": [
       "<center><table style=\"color: black;border: 1px solid black;\"><tr style=\"color: black;border: 1px solid black;\"><td style=\"font-weight: bold;color: black;background-color: lightgray;\">Outlook</td><td style=\"font-weight: bold;color: black;background-color: lightgray;\">Temperature</td><td style=\"font-weight: bold;color: black;background-color: lightgray;\">Humidity</td><td style=\"font-weight: bold;color: black;background-color: lightgray;\">Windy</td><td style=\"font-weight: bold;color: black;background-color: lightgray;\">Barn Swallow?</td></tr><tr style=\"color: black;border: 1px solid black;\"><td style=\"background-color: grey;\">Rain</td><td style=\"background-color: wheat;\">Mild</td><td style=\"background-color: wheat;\">High</td><td style=\"background-color: wheat;\">False</td><td style=\"background-color: wheat;\">thumbs up</td></tr><tr style=\"color: black;border: 1px solid black;\"><td style=\"background-color: grey;\">Rain</td><td style=\"background-color: wheat;\">Cool</td><td style=\"background-color: wheat;\">Normal</td><td style=\"background-color: wheat;\">False</td><td style=\"background-color: wheat;\">thumbs up</td></tr><tr style=\"color: black;border: 1px solid black;\"><td style=\"background-color: grey;\">Rain</td><td style=\"background-color: wheat;\">Mild</td><td style=\"background-color: wheat;\">Normal</td><td style=\"background-color: wheat;\">False</td><td style=\"background-color: wheat;\">thumbs up</td></tr><tr style=\"color: black;border: 1px solid black;\"><td style=\"background-color: grey;\">Rain</td><td style=\"background-color: lightpink;\">Cool</td><td style=\"background-color: lightpink;\">Normal</td><td style=\"background-color: lightpink;\">True</td><td style=\"background-color: lightpink;\">thumbs down</td></tr><tr style=\"color: black;border: 1px solid black;\"><td style=\"background-color: grey;\">Rain</td><td style=\"background-color: lightpink;\">Mild</td><td style=\"background-color: lightpink;\">High</td><td style=\"background-color: lightpink;\">True</td><td style=\"background-color: lightpink;\">thumbs down</td></tr></table></center>"
      ],
      "text/plain": [
       "<itable.itable.PrettyTable at 0x113a7c940>"
      ]
     },
     "metadata": {},
     "output_type": "display_data"
    }
   ],
   "source": [
    "df_g2 = df_g2.sort_values('Windy')\n",
    "df_g2.index = range(len(df_g2))\n",
    "\n",
    "WINDY_COLORS = {True: 'lightpink', False:'wheat'}\n",
    "\n",
    "pt = df_color(df_g2, 'Windy', WINDY_COLORS)\n",
    "df_gray_col(pt, 'Outlook')\n",
    "display(pt)"
   ]
  },
  {
   "cell_type": "markdown",
   "metadata": {},
   "source": [
    "We are now left with two pure groups and we can update our classification function to be:\n",
    "\n",
    "```python\n",
    "if Outlook == 'Overcast':\n",
    "    # all Overcast instances have same classification\n",
    "    return 'thumbs up'\n",
    "elif Outlook == 'Rain':\n",
    "    if Windy == True:\n",
    "        # all Rain and Windy instances have same classification\n",
    "        return 'thumbs up'\n",
    "    elif Windy == False:\n",
    "        # all Rain and not Windy instances have same classification\n",
    "        return 'thumbs down'\n",
    "elif Outlook == 'Sunny':\n",
    "    # split Sunny instances on next feature (TBD)\n",
    "```\n",
    "\n",
    "Finally, we need to repeat this proceed again with the Sunny Outlook Group:"
   ]
  },
  {
   "cell_type": "code",
   "execution_count": 7,
   "metadata": {
    "collapsed": false
   },
   "outputs": [
    {
     "data": {
      "text/html": [
       "<center><table style=\"color: black;border: 1px solid black;\"><tr style=\"color: black;border: 1px solid black;\"><td style=\"font-weight: bold;color: black;background-color: lightgray;\">Outlook</td><td style=\"font-weight: bold;color: black;background-color: lightgray;\">Temperature</td><td style=\"font-weight: bold;color: black;background-color: lightgray;\">Humidity</td><td style=\"font-weight: bold;color: black;background-color: lightgray;\">Windy</td><td style=\"font-weight: bold;color: black;background-color: lightgray;\">Barn Swallow?</td></tr><tr style=\"color: black;border: 1px solid black;\"><td style=\"background-color: grey;\">Sunny</td><td style=\"background-color: yellow;\">Hot</td><td style=\"background-color: yellow;\">High</td><td style=\"background-color: yellow;\">False</td><td style=\"background-color: yellow;\">thumbs down</td></tr><tr style=\"color: black;border: 1px solid black;\"><td style=\"background-color: grey;\">Sunny</td><td style=\"background-color: yellow;\">Hot</td><td style=\"background-color: yellow;\">High</td><td style=\"background-color: yellow;\">True</td><td style=\"background-color: yellow;\">thumbs down</td></tr><tr style=\"color: black;border: 1px solid black;\"><td style=\"background-color: grey;\">Sunny</td><td style=\"background-color: yellow;\">Mild</td><td style=\"background-color: yellow;\">High</td><td style=\"background-color: yellow;\">False</td><td style=\"background-color: yellow;\">thumbs down</td></tr><tr style=\"color: black;border: 1px solid black;\"><td style=\"background-color: grey;\">Sunny</td><td style=\"background-color: yellow;\">Cool</td><td style=\"background-color: yellow;\">Normal</td><td style=\"background-color: yellow;\">False</td><td style=\"background-color: yellow;\">thumbs up</td></tr><tr style=\"color: black;border: 1px solid black;\"><td style=\"background-color: grey;\">Sunny</td><td style=\"background-color: yellow;\">Mild</td><td style=\"background-color: yellow;\">Normal</td><td style=\"background-color: yellow;\">True</td><td style=\"background-color: yellow;\">thumbs up</td></tr></table></center>"
      ],
      "text/plain": [
       "<itable.itable.PrettyTable at 0x1056a92b0>"
      ]
     },
     "metadata": {},
     "output_type": "display_data"
    }
   ],
   "source": [
    "df_g3 = df_sorted.loc[df_sorted['Outlook'] == 'Sunny']\n",
    "df_g3.index = range(len(df_g3))\n",
    "\n",
    "pt = df_color(df_g3, 'Outlook', OUTLOOK_COLORS)\n",
    "df_gray_col(pt, 'Outlook')\n",
    "display(pt)"
   ]
  },
  {
   "cell_type": "markdown",
   "metadata": {},
   "source": [
    "Here we see that the Humidity feature splits the instances into pure groups:"
   ]
  },
  {
   "cell_type": "code",
   "execution_count": 8,
   "metadata": {
    "collapsed": false
   },
   "outputs": [
    {
     "data": {
      "text/html": [
       "<center><table style=\"color: black;border: 1px solid black;\"><tr style=\"color: black;border: 1px solid black;\"><td style=\"font-weight: bold;color: black;background-color: lightgray;\">Outlook</td><td style=\"font-weight: bold;color: black;background-color: lightgray;\">Temperature</td><td style=\"font-weight: bold;color: black;background-color: lightgray;\">Humidity</td><td style=\"font-weight: bold;color: black;background-color: lightgray;\">Windy</td><td style=\"font-weight: bold;color: black;background-color: lightgray;\">Barn Swallow?</td></tr><tr style=\"color: black;border: 1px solid black;\"><td style=\"background-color: grey;\">Sunny</td><td style=\"background-color: wheat;\">Hot</td><td style=\"background-color: wheat;\">High</td><td style=\"background-color: wheat;\">False</td><td style=\"background-color: wheat;\">thumbs down</td></tr><tr style=\"color: black;border: 1px solid black;\"><td style=\"background-color: grey;\">Sunny</td><td style=\"background-color: wheat;\">Hot</td><td style=\"background-color: wheat;\">High</td><td style=\"background-color: wheat;\">True</td><td style=\"background-color: wheat;\">thumbs down</td></tr><tr style=\"color: black;border: 1px solid black;\"><td style=\"background-color: grey;\">Sunny</td><td style=\"background-color: wheat;\">Mild</td><td style=\"background-color: wheat;\">High</td><td style=\"background-color: wheat;\">False</td><td style=\"background-color: wheat;\">thumbs down</td></tr><tr style=\"color: black;border: 1px solid black;\"><td style=\"background-color: grey;\">Sunny</td><td style=\"background-color: lightpink;\">Cool</td><td style=\"background-color: lightpink;\">Normal</td><td style=\"background-color: lightpink;\">False</td><td style=\"background-color: lightpink;\">thumbs up</td></tr><tr style=\"color: black;border: 1px solid black;\"><td style=\"background-color: grey;\">Sunny</td><td style=\"background-color: lightpink;\">Mild</td><td style=\"background-color: lightpink;\">Normal</td><td style=\"background-color: lightpink;\">True</td><td style=\"background-color: lightpink;\">thumbs up</td></tr></table></center>"
      ],
      "text/plain": [
       "<itable.itable.PrettyTable at 0x113a7c390>"
      ]
     },
     "metadata": {},
     "output_type": "display_data"
    }
   ],
   "source": [
    "df_g3 = df_g3.sort_values('Humidity')\n",
    "df_g3.index = range(len(df_g3))\n",
    "\n",
    "HUMIDITY_COLORS = {'High': 'wheat', 'Normal':'lightpink'}\n",
    "\n",
    "pt = df_color(df_g3, 'Humidity', HUMIDITY_COLORS)\n",
    "df_gray_col(pt, 'Outlook')\n",
    "display(pt)"
   ]
  },
  {
   "cell_type": "markdown",
   "metadata": {},
   "source": [
    "This exhausts all of the instance data we have to learn from.  The classification function that we have learned is:\n",
    "\n",
    "```python\n",
    "if Outlook == 'Overcast':\n",
    "    # all Overcast instances have same classification\n",
    "    return 'thumbs up'\n",
    "elif Outlook == 'Rain':\n",
    "    if Windy == True:\n",
    "        # all Rain and Windy instances have same classification\n",
    "        return 'thumbs up'\n",
    "    elif Windy == False:\n",
    "        # all Rain and not Windy instances have same classification\n",
    "        return 'thumbs down'\n",
    "elif Outlook == 'Sunny':\n",
    "    if Humidity == 'High':\n",
    "        # all Sunny and High Humidity instance have same classification\n",
    "        return 'thumbs down'\n",
    "    elif Humidity == 'Normal':\n",
    "        # all Sunny and High Humidity instance have same classification\n",
    "        return 'thumbs up'    \n",
    "```\n",
    "\n",
    "This function is consistent with all of the instance data that we have available and will assign a classification to any legal instance (i.e. it is a complete function to classifies all inputs in the Outlook, Temperature, Humidty, Windy domain).  It is important to note, however, that this function is not in any way unique.\n",
    "\n",
    "If we had choose to begin splitting on the Temperature feature instead of the Outlook feature we would have arrived at a very different function.  Grouping on Temperature, our instance data looks like this:"
   ]
  },
  {
   "cell_type": "code",
   "execution_count": 10,
   "metadata": {
    "collapsed": false
   },
   "outputs": [
    {
     "data": {
      "text/html": [
       "<center><table style=\"color: black;border: 1px solid black;\"><tr style=\"color: black;border: 1px solid black;\"><td style=\"font-weight: bold;color: black;background-color: lightgray;\">Outlook</td><td style=\"font-weight: bold;color: black;background-color: lightgray;\">Temperature</td><td style=\"font-weight: bold;color: black;background-color: lightgray;\">Humidity</td><td style=\"font-weight: bold;color: black;background-color: lightgray;\">Windy</td><td style=\"font-weight: bold;color: black;background-color: lightgray;\">Barn Swallow?</td></tr><tr style=\"color: black;border: 1px solid black;\"><td style=\"background-color: cyan;\">Rain</td><td style=\"background-color: cyan;\">Cool</td><td style=\"background-color: cyan;\">Normal</td><td style=\"background-color: cyan;\">False</td><td style=\"background-color: cyan;\">thumbs up</td></tr><tr style=\"color: black;border: 1px solid black;\"><td style=\"background-color: cyan;\">Rain</td><td style=\"background-color: cyan;\">Cool</td><td style=\"background-color: cyan;\">Normal</td><td style=\"background-color: cyan;\">True</td><td style=\"background-color: cyan;\">thumbs down</td></tr><tr style=\"color: black;border: 1px solid black;\"><td style=\"background-color: cyan;\">Overcast</td><td style=\"background-color: cyan;\">Cool</td><td style=\"background-color: cyan;\">Normal</td><td style=\"background-color: cyan;\">True</td><td style=\"background-color: cyan;\">thumbs up</td></tr><tr style=\"color: black;border: 1px solid black;\"><td style=\"background-color: cyan;\">Sunny</td><td style=\"background-color: cyan;\">Cool</td><td style=\"background-color: cyan;\">Normal</td><td style=\"background-color: cyan;\">False</td><td style=\"background-color: cyan;\">thumbs up</td></tr><tr style=\"color: black;border: 1px solid black;\"><td style=\"background-color: orange;\">Sunny</td><td style=\"background-color: orange;\">Hot</td><td style=\"background-color: orange;\">High</td><td style=\"background-color: orange;\">False</td><td style=\"background-color: orange;\">thumbs down</td></tr><tr style=\"color: black;border: 1px solid black;\"><td style=\"background-color: orange;\">Sunny</td><td style=\"background-color: orange;\">Hot</td><td style=\"background-color: orange;\">High</td><td style=\"background-color: orange;\">True</td><td style=\"background-color: orange;\">thumbs down</td></tr><tr style=\"color: black;border: 1px solid black;\"><td style=\"background-color: orange;\">Overcast</td><td style=\"background-color: orange;\">Hot</td><td style=\"background-color: orange;\">High</td><td style=\"background-color: orange;\">False</td><td style=\"background-color: orange;\">thumbs up</td></tr><tr style=\"color: black;border: 1px solid black;\"><td style=\"background-color: orange;\">Overcast</td><td style=\"background-color: orange;\">Hot</td><td style=\"background-color: orange;\">Normal</td><td style=\"background-color: orange;\">False</td><td style=\"background-color: orange;\">thumbs up</td></tr><tr style=\"color: black;border: 1px solid black;\"><td style=\"background-color: chartreuse;\">Rain</td><td style=\"background-color: chartreuse;\">Mild</td><td style=\"background-color: chartreuse;\">High</td><td style=\"background-color: chartreuse;\">False</td><td style=\"background-color: chartreuse;\">thumbs up</td></tr><tr style=\"color: black;border: 1px solid black;\"><td style=\"background-color: chartreuse;\">Sunny</td><td style=\"background-color: chartreuse;\">Mild</td><td style=\"background-color: chartreuse;\">High</td><td style=\"background-color: chartreuse;\">False</td><td style=\"background-color: chartreuse;\">thumbs down</td></tr><tr style=\"color: black;border: 1px solid black;\"><td style=\"background-color: chartreuse;\">Rain</td><td style=\"background-color: chartreuse;\">Mild</td><td style=\"background-color: chartreuse;\">Normal</td><td style=\"background-color: chartreuse;\">False</td><td style=\"background-color: chartreuse;\">thumbs up</td></tr><tr style=\"color: black;border: 1px solid black;\"><td style=\"background-color: chartreuse;\">Sunny</td><td style=\"background-color: chartreuse;\">Mild</td><td style=\"background-color: chartreuse;\">Normal</td><td style=\"background-color: chartreuse;\">True</td><td style=\"background-color: chartreuse;\">thumbs up</td></tr><tr style=\"color: black;border: 1px solid black;\"><td style=\"background-color: chartreuse;\">Overcast</td><td style=\"background-color: chartreuse;\">Mild</td><td style=\"background-color: chartreuse;\">High</td><td style=\"background-color: chartreuse;\">True</td><td style=\"background-color: chartreuse;\">thumbs up</td></tr><tr style=\"color: black;border: 1px solid black;\"><td style=\"background-color: chartreuse;\">Rain</td><td style=\"background-color: chartreuse;\">Mild</td><td style=\"background-color: chartreuse;\">High</td><td style=\"background-color: chartreuse;\">True</td><td style=\"background-color: chartreuse;\">thumbs down</td></tr></table></center>"
      ],
      "text/plain": [
       "<itable.itable.PrettyTable at 0x1056a7860>"
      ]
     },
     "metadata": {},
     "output_type": "display_data"
    }
   ],
   "source": [
    "TEMPERATURE_COLORS = {'Mild': 'chartreuse', 'Cool': 'cyan', 'Hot': 'orange'}\n",
    "\n",
    "df_sorted2 = df.sort_values('Temperature')\n",
    "df_sorted2.index = range(len(df_sorted2))\n",
    "\n",
    "pt = df_color(df_sorted2, 'Temperature', TEMPERATURE_COLORS)\n",
    "\n",
    "display(pt)"
   ]
  },
  {
   "cell_type": "markdown",
   "metadata": {},
   "source": [
    "An example (not unique) of a classification function that we could generate starting with grouping on Temperature is the following:\n",
    "\n",
    "```python\n",
    "# alternative more complicated classification function\n",
    "if Temperature == 'Cool':\n",
    "    if Outlook == 'Sunny':\n",
    "        return 'thumbs up'\n",
    "    elif Outlook == 'Overcast':\n",
    "        return 'thumbs up'\n",
    "    elif Outlook == 'Rain':\n",
    "        # instances not pure - split on Windy\n",
    "        if Windy == True:\n",
    "            return 'thumbs down'\n",
    "        elif Windy == 'False':\n",
    "            return 'thumbs up'\n",
    "elif Temperature == 'Mild':\n",
    "    if Outlook == 'Sunny':\n",
    "        # instances not pure - split on Windy\n",
    "        if Windy == True:\n",
    "            return 'thumbs up'\n",
    "        elif Windy == 'False':\n",
    "            return 'thumbs down'\n",
    "    elif Outlook == 'Overcast':\n",
    "        return 'thumbs up'\n",
    "    elif Outlook == 'Rain':\n",
    "        # instances not pure - split on Humidity\n",
    "        if Humidity == 'High':\n",
    "            #instances not pure - split on Windy\n",
    "            if Windy == True:\n",
    "                return 'thumbs down'\n",
    "            elif Windy == False:\n",
    "                return 'thumbs up'\n",
    "        elif Humidity == 'Normal':\n",
    "            return 'thumbs up'\n",
    "elif Temperature == 'Hot':\n",
    "    if Windy == True:\n",
    "        return 'thumbs down'\n",
    "    elif Windy == False:\n",
    "        # instances not pure - split on Humidity\n",
    "        if Humidity == 'High':\n",
    "            # instances not pure - split on Outlook\n",
    "            if Outlook == 'Sunny':\n",
    "                return 'thumbs down'\n",
    "            elif Outlook == 'Overcast':\n",
    "                return 'thumbs up'\n",
    "            elif Outlook == 'Rain':\n",
    "                # NOTE - instances don't cover this case!\n",
    "                return None\n",
    "        elif Humidity == 'Normal':\n",
    "            return 'thumbs up'\n",
    "```\n",
    "\n",
    "Not only is this classification function much more complicated than our first one but it is also not complete - it cannot classify the instance of Temperature=Hot, Windy=False, Humidity=High and Outlook=Rain.  Even though we used the same instance data to derive both classification functions their predictive power is not the same.  The original generalize to this unseen case while the present function does not.  Is the prediction correct?  We really can't say for sure but it is consistent with the partitcular set of data patterns that were discovered as we derived the first classification function."
   ]
  },
  {
   "cell_type": "code",
   "execution_count": null,
   "metadata": {
    "collapsed": true
   },
   "outputs": [],
   "source": []
  }
 ],
 "metadata": {
  "kernelspec": {
   "display_name": "Python 3",
   "language": "python",
   "name": "python3"
  },
  "language_info": {
   "codemirror_mode": {
    "name": "ipython",
    "version": 3
   },
   "file_extension": ".py",
   "mimetype": "text/x-python",
   "name": "python",
   "nbconvert_exporter": "python",
   "pygments_lexer": "ipython3",
   "version": "3.5.1"
  }
 },
 "nbformat": 4,
 "nbformat_minor": 0
}
